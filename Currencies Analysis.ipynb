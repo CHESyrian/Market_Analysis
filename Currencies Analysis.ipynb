{
 "cells": [
  {
   "cell_type": "markdown",
   "id": "1255aff9-ce88-4c1c-adf9-8bda2b5388c5",
   "metadata": {},
   "source": [
    "<p style=\"height:120px;line-height:120px;font-size:64px;background-color:cyan;color:black;padding:20px auto;text-align:center;border:2px outset gold;border-radius:8px;\">\n",
    "    Market Analysis - Currencies\n",
    "</p>"
   ]
  },
  {
   "cell_type": "code",
   "execution_count": null,
   "id": "95ce1aa4-a7d8-4314-b712-7d0a7add317a",
   "metadata": {},
   "outputs": [],
   "source": [
    "import plotly.graph_objects as go\n",
    "import polars as pl"
   ]
  },
  {
   "cell_type": "code",
   "execution_count": null,
   "id": "87fe4ee5-ff61-453f-9bd6-4240ae625f2d",
   "metadata": {},
   "outputs": [],
   "source": [
    "df = pl.read_csv('Datasets/currencies_data.csv').with_columns(pl.col('Date').str.to_date())"
   ]
  },
  {
   "cell_type": "code",
   "execution_count": null,
   "id": "bff5769c-3034-4c1a-a1cc-5afb0cafc859",
   "metadata": {},
   "outputs": [],
   "source": [
    "df.head()"
   ]
  },
  {
   "cell_type": "code",
   "execution_count": null,
   "id": "f730a1c9-d6ca-4910-b7ef-e513ec9875ff",
   "metadata": {},
   "outputs": [],
   "source": [
    "df.null_count()"
   ]
  },
  {
   "cell_type": "code",
   "execution_count": null,
   "id": "1cb018ef-dd11-4063-afeb-d030829b6c13",
   "metadata": {},
   "outputs": [],
   "source": [
    "df = df.drop_nulls()"
   ]
  },
  {
   "cell_type": "code",
   "execution_count": null,
   "id": "2a4ecfdd-7ed7-425e-8bc9-386e95a5f34a",
   "metadata": {},
   "outputs": [],
   "source": [
    "df.describe()"
   ]
  },
  {
   "cell_type": "code",
   "execution_count": null,
   "id": "9b45bc09-5148-4ae6-b7ab-5ab64249e154",
   "metadata": {},
   "outputs": [],
   "source": [
    "fig = go.Figure()\n",
    "for col in df.columns[1:]:\n",
    "    fig.add_trace(\n",
    "        go.Box(\n",
    "            y=df.select(col).to_series(), \n",
    "            quartilemethod=\"exclusive\", \n",
    "            name=col, \n",
    "            boxpoints='suspectedoutliers'\n",
    "        )\n",
    "    )\n",
    "fig.update_traces(boxpoints='all', jitter=0)\n",
    "fig.show()"
   ]
  },
  {
   "cell_type": "code",
   "execution_count": null,
   "id": "d008b52e-1d0f-4e3f-a816-ab4a03500f9d",
   "metadata": {},
   "outputs": [],
   "source": [
    "corr = df.corr()"
   ]
  },
  {
   "cell_type": "code",
   "execution_count": null,
   "id": "365d99f9-a8c1-490c-a1ce-a07a393bbf07",
   "metadata": {},
   "outputs": [],
   "source": [
    "fig = go.Figure(\n",
    "        data=go.Heatmap(\n",
    "            z=corr,\n",
    "            x=corr.columns,\n",
    "            y=corr.columns,\n",
    "            colorscale='Viridis', \n",
    "            type='heatmap', \n",
    "        )\n",
    ")\n",
    "fig.update_layout(\n",
    "    title=dict(text='Correlation')\n",
    ")\n",
    "fig.show()"
   ]
  },
  {
   "cell_type": "markdown",
   "id": "8ef79d6e-9d6a-4330-8795-880a4b68a745",
   "metadata": {},
   "source": [
    "<p style=\"height:240px;line-height:100px;font-size:64px;background-color:cyan;color:black;padding:20px auto;text-align:center;border:2px outset gold;border-radius:8px;\">\n",
    "    Created by:<br/> <code>Tarek Ghajary</code>\n",
    "</p>"
   ]
  },
  {
   "cell_type": "code",
   "execution_count": null,
   "id": "b8c5f068-2735-4b01-b613-e34ac3df317f",
   "metadata": {},
   "outputs": [],
   "source": []
  }
 ],
 "metadata": {
  "kernelspec": {
   "display_name": "Python 3 (ipykernel)",
   "language": "python",
   "name": "python3"
  },
  "language_info": {
   "codemirror_mode": {
    "name": "ipython",
    "version": 3
   },
   "file_extension": ".py",
   "mimetype": "text/x-python",
   "name": "python",
   "nbconvert_exporter": "python",
   "pygments_lexer": "ipython3",
   "version": "3.11.5"
  }
 },
 "nbformat": 4,
 "nbformat_minor": 5
}
