{
 "cells": [
  {
   "cell_type": "markdown",
   "id": "60c53f79-7a34-4b86-b129-24991f76d093",
   "metadata": {},
   "source": [
    "<p style=\"height:120px;line-height:120px;font-size:64px;background-color:cyan;color:black;padding:20px auto;text-align:center;border:2px outset gold;border-radius:8px;\">\n",
    "    Market Analysis - Preparing Data\n",
    "</p>"
   ]
  },
  {
   "cell_type": "markdown",
   "id": "301946dc-17b6-45f2-8df9-e2fa727bbd88",
   "metadata": {},
   "source": [
    "# **1.**\n",
    "<p style=\"height:80px;line-height:80px;background-color:lime;padding-left:12px;font-size:36px;font-family:serif;font-weight:bold;color:black;border:1px outset gold;border-radius:10px;\">\n",
    "    Importing Libraries\n",
    "</p>"
   ]
  },
  {
   "cell_type": "code",
   "execution_count": 1,
   "id": "22a498c9-1841-4b95-bb14-74090d8e2605",
   "metadata": {},
   "outputs": [],
   "source": [
    "import yfinance as yf\n",
    "import polars as pl"
   ]
  },
  {
   "cell_type": "markdown",
   "id": "f07f30a7-8b70-4275-b966-93231529c660",
   "metadata": {},
   "source": [
    "# **2.**\n",
    "<p style=\"height:80px;line-height:80px;background-color:lime;padding-left:12px;font-size:36px;font-family:serif;font-weight:bold;color:black;border:1px outset gold;border-radius:10px;\">\n",
    "    Getting Data\n",
    "</p>"
   ]
  },
  {
   "cell_type": "code",
   "execution_count": 2,
   "id": "ffd55978-3a31-41ea-b50f-ec301a0a1d54",
   "metadata": {},
   "outputs": [],
   "source": [
    "# Currencies\n",
    "ticker_eurusd = yf.Ticker('EURUSD=X')\n",
    "ticker_gbpusd = yf.Ticker('GBPUSD=X')\n",
    "ticker_eurgbp = yf.Ticker('EURGBP=X')\n",
    "# Futures\n",
    "ticker_dollar = yf.Ticker('DX=F')\n",
    "ticker_gold   = yf.Ticker('GC=F')\n",
    "ticker_oil    = yf.Ticker('CL=F')\n",
    "# Stocks\n",
    "ticker_apple  = yf.Ticker('AAPL')\n",
    "ticker_ibm    = yf.Ticker('IBM')\n",
    "ticker_google = yf.Ticker('GOOG')\n",
    "ticker_tesla  = yf.Ticker('TSLA')\n",
    "ticker_airbnb = yf.Ticker('ABNB')\n",
    "# Indices\n",
    "ticker_dji    = yf.Ticker('^DJI')\n",
    "ticker_sp500  = yf.Ticker('^GSPC')"
   ]
  },
  {
   "cell_type": "code",
   "execution_count": 4,
   "id": "8f36663e-e59e-452d-bf12-0824c305ad06",
   "metadata": {},
   "outputs": [],
   "source": [
    "# Currencies\n",
    "df_eurusd_1y = pl.from_pandas(ticker_eurusd.history(period='1y'), include_index=True)\n",
    "df_eurusd_3y = pl.from_pandas(ticker_eurusd.history(period='3y'), include_index=True)\n",
    "df_gbpusd_1y = pl.from_pandas(ticker_gbpusd.history(period='1y'), include_index=True)\n",
    "df_eurgbp_1y = pl.from_pandas(ticker_eurgbp.history(period='1y'), include_index=True)\n",
    "# Futures\n",
    "df_dollar_1y = pl.from_pandas(ticker_dollar.history(period='1y'), include_index=True)\n",
    "df_dollar_3y = pl.from_pandas(ticker_dollar.history(period='3y'), include_index=True)\n",
    "df_gold_1y   = pl.from_pandas(ticker_gold.history(period='1y'),   include_index=True)\n",
    "df_gold_3y   = pl.from_pandas(ticker_gold.history(period='3y'),   include_index=True)\n",
    "df_oil_1y    = pl.from_pandas(ticker_oil.history(period='1y'),    include_index=True)\n",
    "# Stocks\n",
    "df_apple_1y  = pl.from_pandas(ticker_apple.history(period='1y'),  include_index=True)\n",
    "df_ibm_1y    = pl.from_pandas(ticker_ibm.history(period='1y'),    include_index=True)\n",
    "df_google_1y = pl.from_pandas(ticker_google.history(period='1y'), include_index=True)\n",
    "df_tesla_1y  = pl.from_pandas(ticker_tesla.history(period='1y'),  include_index=True)\n",
    "df_tesla_3y  = pl.from_pandas(ticker_tesla.history(period='3y'),  include_index=True)\n",
    "df_airbnb_1y = pl.from_pandas(ticker_airbnb.history(period='1y'), include_index=True)\n",
    "# Indices\n",
    "df_dji_1y    = pl.from_pandas(ticker_dji.history(period='1y'),    include_index=True)\n",
    "df_dji_3y    = pl.from_pandas(ticker_dji.history(period='3y'),    include_index=True)\n",
    "df_sp500_1y  = pl.from_pandas(ticker_sp500.history(period='1y'),  include_index=True)"
   ]
  },
  {
   "cell_type": "markdown",
   "id": "f7ee3b37-a919-4641-8c3e-0086fd1fb49b",
   "metadata": {},
   "source": [
    "# **3.**\n",
    "<p style=\"height:80px;line-height:80px;background-color:lime;padding-left:12px;font-size:36px;font-family:serif;font-weight:bold;color:black;border:1px outset gold;border-radius:10px;\">\n",
    "    Preparing Data\n",
    "</p>"
   ]
  },
  {
   "cell_type": "markdown",
   "id": "f5e1a1b2-fe6a-4506-915a-5bd2b6f9acfd",
   "metadata": {},
   "source": [
    "## **3.1**\n",
    "<p style=\"height:60px;line-height:60px;background-color:navy;padding-left:12px;font-size:32px;font-family:serif;font-weight:bold;color:white;border:1px outset gold;border-radius:8px;\">\n",
    "    Currencies Data\n",
    "</p>"
   ]
  },
  {
   "cell_type": "code",
   "execution_count": 5,
   "id": "900b3219-463a-4a11-a0cb-7aeda49f04db",
   "metadata": {},
   "outputs": [],
   "source": [
    "df_crn = pl.DataFrame()"
   ]
  },
  {
   "cell_type": "code",
   "execution_count": 6,
   "id": "fdfe39d8-e4f4-400b-989c-a99e39cbb107",
   "metadata": {},
   "outputs": [],
   "source": [
    "df_crn_1 = df_eurusd_1y.select(\n",
    "    pl.col('Date').dt.date().alias('Date'),\n",
    "    (pl.col('Close') - pl.col('Open')).alias('V_ED_ChangeOpenClose'),\n",
    "    (((pl.col('Close') - pl.col('Open')) / pl.col('Open')) * 100).alias('P_ED_ChangeOpenClose'), \n",
    "    (pl.col('Close') - pl.col('Close').shift(1)).alias('V_ED_ChangeClose'), \n",
    "    (((pl.col('Close') - pl.col('Close').shift(1)) / pl.col('Open')) * 100).alias('P_ED_ChangeClose')\n",
    ")\n",
    "df_crn_2 = df_gbpusd_1y.select(\n",
    "    (pl.col('Close') - pl.col('Open')).alias('V_PD_ChangeOpenClose'),\n",
    "    (((pl.col('Close') - pl.col('Open')) / pl.col('Open')) * 100).alias('P_PD_ChangeOpenClose'), \n",
    "    (pl.col('Close') - pl.col('Close').shift(1)).alias('V_PD_ChangeClose'), \n",
    "    (((pl.col('Close') - pl.col('Close').shift(1)) / pl.col('Open')) * 100).alias('P_PD_ChangeClose')\n",
    ")\n",
    "df_crn_3 = df_eurgbp_1y.select(\n",
    "    (pl.col('Close') - pl.col('Open')).alias('V_EP_ChangeOpenClose'),\n",
    "    (((pl.col('Close') - pl.col('Open')) / pl.col('Open')) * 100).alias('P_EP_ChangeOpenClose'), \n",
    "    (pl.col('Close') - pl.col('Close').shift(1)).alias('V_EP_ChangeClose'), \n",
    "    (((pl.col('Close') - pl.col('Close').shift(1)) / pl.col('Open')) * 100).alias('P_EP_ChangeClose')\n",
    ")"
   ]
  },
  {
   "cell_type": "code",
   "execution_count": 7,
   "id": "483dd433-9b3f-4a05-8ad6-673e5c513daa",
   "metadata": {},
   "outputs": [],
   "source": [
    "df_crn = pl.concat([df_crn_1, df_crn_2, df_crn_3], how='horizontal')"
   ]
  },
  {
   "cell_type": "code",
   "execution_count": 8,
   "id": "95f57d02-abff-409b-a215-4c0e8cde76cb",
   "metadata": {},
   "outputs": [],
   "source": [
    "df_crn.write_csv('Datasets/currencies_data.csv')"
   ]
  },
  {
   "cell_type": "markdown",
   "id": "fbee0659-0f95-402c-ab6e-40be7e2b055d",
   "metadata": {},
   "source": [
    "## **3.2**\n",
    "<p style=\"height:60px;line-height:60px;background-color:navy;padding-left:12px;font-size:32px;font-family:serif;font-weight:bold;color:white;border:1px outset gold;border-radius:8px;\">\n",
    "    Stocks Data\n",
    "</p>"
   ]
  },
  {
   "cell_type": "code",
   "execution_count": 9,
   "id": "9fd4b7cf-e3c5-4db9-960f-49366f9919c3",
   "metadata": {},
   "outputs": [],
   "source": [
    "df_stc = pl.DataFrame()"
   ]
  },
  {
   "cell_type": "code",
   "execution_count": 10,
   "id": "a6e504c5-3c63-4113-8c66-663cba4a0bb9",
   "metadata": {},
   "outputs": [],
   "source": [
    "df_stc_1 = df_dollar_1y.select(\n",
    "    pl.col('Date').dt.date().alias('Date'),\n",
    "    (pl.col('Close') - pl.col('Open')).alias('V_USD_ChangeOpenClose'),\n",
    "    (((pl.col('Close') - pl.col('Open')) / pl.col('Open')) * 100).alias('P_USD_ChangeOpenClose'), \n",
    "    (pl.col('Close') - pl.col('Close').shift(1)).alias('V_USD_ChangeClose'), \n",
    "    (((pl.col('Close') - pl.col('Close').shift(1)) / pl.col('Open')) * 100).alias('P_USD_ChangeClose')\n",
    ")\n",
    "df_stc_2 = df_apple_1y.select(\n",
    "    (pl.col('Close') - pl.col('Open')).alias('V_APL_ChangeOpenClose'),\n",
    "    (((pl.col('Close') - pl.col('Open')) / pl.col('Open')) * 100).alias('P_APL_ChangeOpenClose'), \n",
    "    (pl.col('Close') - pl.col('Close').shift(1)).alias('V_APL_ChangeClose'), \n",
    "    (((pl.col('Close') - pl.col('Close').shift(1)) / pl.col('Open')) * 100).alias('P_APL_ChangeClose')\n",
    ")\n",
    "df_stc_3 = df_ibm_1y.select(\n",
    "    (pl.col('Close') - pl.col('Open')).alias('V_IBM_ChangeOpenClose'),\n",
    "    (((pl.col('Close') - pl.col('Open')) / pl.col('Open')) * 100).alias('P_IBM_ChangeOpenClose'), \n",
    "    (pl.col('Close') - pl.col('Close').shift(1)).alias('V_IBM_ChangeClose'), \n",
    "    (((pl.col('Close') - pl.col('Close').shift(1)) / pl.col('Open')) * 100).alias('P_IBM_ChangeClose')\n",
    ")\n",
    "df_stc_4 = df_google_1y.select(\n",
    "    (pl.col('Close') - pl.col('Open')).alias('V_GGL_ChangeOpenClose'),\n",
    "    (((pl.col('Close') - pl.col('Open')) / pl.col('Open')) * 100).alias('P_GGL_ChangeOpenClose'), \n",
    "    (pl.col('Close') - pl.col('Close').shift(1)).alias('V_GGL_ChangeClose'), \n",
    "    (((pl.col('Close') - pl.col('Close').shift(1)) / pl.col('Open')) * 100).alias('P_GGL_ChangeClose')\n",
    ")\n",
    "df_stc_5 = df_tesla_1y.select(\n",
    "    (pl.col('Close') - pl.col('Open')).alias('V_TSL_ChangeOpenClose'),\n",
    "    (((pl.col('Close') - pl.col('Open')) / pl.col('Open')) * 100).alias('P_TSL_ChangeOpenClose'), \n",
    "    (pl.col('Close') - pl.col('Close').shift(1)).alias('V_TSL_ChangeClose'), \n",
    "    (((pl.col('Close') - pl.col('Close').shift(1)) / pl.col('Open')) * 100).alias('P_TSL_ChangeClose')\n",
    ")\n",
    "df_stc_6 = df_airbnb_1y.select(\n",
    "    (pl.col('Close') - pl.col('Open')).alias('V_BNB_ChangeOpenClose'),\n",
    "    (((pl.col('Close') - pl.col('Open')) / pl.col('Open')) * 100).alias('P_BNB_ChangeOpenClose'), \n",
    "    (pl.col('Close') - pl.col('Close').shift(1)).alias('V_BNB_ChangeClose'), \n",
    "    (((pl.col('Close') - pl.col('Close').shift(1)) / pl.col('Open')) * 100).alias('P_BNB_ChangeClose')\n",
    ")"
   ]
  },
  {
   "cell_type": "code",
   "execution_count": 11,
   "id": "14615bac-8161-4a1c-9cb2-b6baeae75ac5",
   "metadata": {},
   "outputs": [],
   "source": [
    "df_stc = pl.concat([df_stc_1, df_stc_2, df_stc_3, df_stc_4, df_stc_5, df_stc_6], how='horizontal')"
   ]
  },
  {
   "cell_type": "code",
   "execution_count": 12,
   "id": "3cc6e9c8-92c0-4913-9e2f-7b1b8d8b255e",
   "metadata": {},
   "outputs": [],
   "source": [
    "df_stc.write_csv('Datasets/stocks_data.csv')"
   ]
  },
  {
   "cell_type": "markdown",
   "id": "7fe8aed5-cdff-4e67-86a5-7dfe30bbf007",
   "metadata": {},
   "source": [
    "## **3.3**\n",
    "<p style=\"height:60px;line-height:60px;background-color:navy;padding-left:12px;font-size:32px;font-family:serif;font-weight:bold;color:white;border:1px outset gold;border-radius:8px;\">\n",
    "    Indices Data\n",
    "</p>"
   ]
  },
  {
   "cell_type": "code",
   "execution_count": 13,
   "id": "75eda928-af40-47b6-84b3-4348e18c7743",
   "metadata": {},
   "outputs": [],
   "source": [
    "df_ndc = pl.DataFrame()"
   ]
  },
  {
   "cell_type": "code",
   "execution_count": 14,
   "id": "5ecc1844-0548-489b-8112-8c721fe509c8",
   "metadata": {},
   "outputs": [],
   "source": [
    "df_ndc_1 = df_dollar_1y.select(\n",
    "    pl.col('Date').dt.date().alias('Date'),\n",
    "    (pl.col('Close') - pl.col('Open')).alias('V_USD_ChangeOpenClose'),\n",
    "    (((pl.col('Close') - pl.col('Open')) / pl.col('Open')) * 100).alias('P_USD_ChangeOpenClose'), \n",
    "    (pl.col('Close') - pl.col('Close').shift(1)).alias('V_USD_ChangeClose'), \n",
    "    (((pl.col('Close') - pl.col('Close').shift(1)) / pl.col('Open')) * 100).alias('P_USD_ChangeClose')\n",
    ")\n",
    "df_ndc_2 = df_gold_1y.select(\n",
    "    (pl.col('Close') - pl.col('Open')).alias('V_GLD_ChangeOpenClose'),\n",
    "    (((pl.col('Close') - pl.col('Open')) / pl.col('Open')) * 100).alias('P_GLD_ChangeOpenClose'), \n",
    "    (pl.col('Close') - pl.col('Close').shift(1)).alias('V_GLD_ChangeClose'), \n",
    "    (((pl.col('Close') - pl.col('Close').shift(1)) / pl.col('Open')) * 100).alias('P_GLD_ChangeClose')\n",
    ")\n",
    "df_ndc_3 = df_oil_1y.select(\n",
    "    (pl.col('Close') - pl.col('Open')).alias('V_OIL_ChangeOpenClose'),\n",
    "    (((pl.col('Close') - pl.col('Open')) / pl.col('Open')) * 100).alias('P_OIL_ChangeOpenClose'), \n",
    "    (pl.col('Close') - pl.col('Close').shift(1)).alias('V_OIL_ChangeClose'), \n",
    "    (((pl.col('Close') - pl.col('Close').shift(1)) / pl.col('Open')) * 100).alias('P_OIL_ChangeClose')\n",
    ")\n",
    "df_ndc_4 = df_dji_1y.select(\n",
    "    (pl.col('Close') - pl.col('Open')).alias('V_DJI_ChangeOpenClose'),\n",
    "    (((pl.col('Close') - pl.col('Open')) / pl.col('Open')) * 100).alias('P_DJI_ChangeOpenClose'), \n",
    "    (pl.col('Close') - pl.col('Close').shift(1)).alias('V_DJI_ChangeClose'), \n",
    "    (((pl.col('Close') - pl.col('Close').shift(1)) / pl.col('Open')) * 100).alias('P_DJI_ChangeClose')\n",
    ")\n",
    "df_ndc_5 = df_sp500_1y.select(\n",
    "    (pl.col('Close') - pl.col('Open')).alias('V_SP5_ChangeOpenClose'),\n",
    "    (((pl.col('Close') - pl.col('Open')) / pl.col('Open')) * 100).alias('P_SP5_ChangeOpenClose'), \n",
    "    (pl.col('Close') - pl.col('Close').shift(1)).alias('V_SP5_ChangeClose'), \n",
    "    (((pl.col('Close') - pl.col('Close').shift(1)) / pl.col('Open')) * 100).alias('P_SP5_ChangeClose')\n",
    ")"
   ]
  },
  {
   "cell_type": "code",
   "execution_count": 15,
   "id": "230163df-7481-4811-bf75-7d5c8ab2143a",
   "metadata": {},
   "outputs": [],
   "source": [
    "df_ndc = pl.concat([df_ndc_1, df_ndc_2, df_ndc_3, df_ndc_4, df_ndc_5], how='horizontal')"
   ]
  },
  {
   "cell_type": "code",
   "execution_count": 16,
   "id": "d6440282-5a89-44c8-bf96-0985ca6843f5",
   "metadata": {},
   "outputs": [],
   "source": [
    "df_ndc.write_csv('Datasets/indices_data.csv')"
   ]
  },
  {
   "cell_type": "markdown",
   "id": "df0d97e2-d2af-41ff-a5f5-15060a7f10a7",
   "metadata": {},
   "source": [
    "## **3.4**\n",
    "<p style=\"height:60px;line-height:60px;background-color:navy;padding-left:12px;font-size:32px;font-family:serif;font-weight:bold;color:white;border:1px outset gold;border-radius:8px;\">\n",
    "    3Years Data\n",
    "</p>"
   ]
  },
  {
   "cell_type": "code",
   "execution_count": 17,
   "id": "3fe6f490-ed26-43c5-a916-7a31f9e9ffb4",
   "metadata": {},
   "outputs": [],
   "source": [
    "df_eurusd_3y.write_csv('Datasets/EURUSD_3Y.csv')\n",
    "df_dollar_3y.write_csv('Datasets/Dollar_3Y.csv')\n",
    "df_gold_3y.write_csv('Datasets/Gold_3Y.csv')\n",
    "df_tesla_3y.write_csv('Datasets/Tesla_3Y.csv')\n",
    "df_dji_3y.write_csv('Datasets/DowJones_3Y.csv')"
   ]
  },
  {
   "cell_type": "markdown",
   "id": "b9b7fac3-c3bc-4b79-b1bd-8f0371b82520",
   "metadata": {},
   "source": [
    "<p style=\"height:240px;line-height:100px;font-size:64px;background-color:cyan;color:black;padding:20px auto;text-align:center;border:2px outset gold;border-radius:8px;\">\n",
    "    Created by:<br/> <code style=\"border:1px outset gold;border-radius:10px;\">Tarek Ghajary</code>\n",
    "</p>"
   ]
  }
 ],
 "metadata": {
  "kernelspec": {
   "display_name": "Python 3 (ipykernel)",
   "language": "python",
   "name": "python3"
  },
  "language_info": {
   "codemirror_mode": {
    "name": "ipython",
    "version": 3
   },
   "file_extension": ".py",
   "mimetype": "text/x-python",
   "name": "python",
   "nbconvert_exporter": "python",
   "pygments_lexer": "ipython3",
   "version": "3.11.5"
  }
 },
 "nbformat": 4,
 "nbformat_minor": 5
}
