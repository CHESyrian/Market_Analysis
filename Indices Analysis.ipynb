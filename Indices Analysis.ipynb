{
 "cells": [
  {
   "cell_type": "markdown",
   "id": "1255aff9-ce88-4c1c-adf9-8bda2b5388c5",
   "metadata": {},
   "source": [
    "<p style=\"height:120px;line-height:120px;font-size:64px;background-color:cyan;color:black;padding:20px auto;text-align:center;border:2px outset gold;border-radius:8px;\">\n",
    "    Market Analysis - Currencies\n",
    "</p>"
   ]
  },
  {
   "cell_type": "code",
   "execution_count": 1,
   "id": "95ce1aa4-a7d8-4314-b712-7d0a7add317a",
   "metadata": {},
   "outputs": [],
   "source": [
    "import numpy as np\n",
    "import plotly.express as px\n",
    "import plotly.graph_objects as go\n",
    "import polars as pl"
   ]
  },
  {
   "cell_type": "code",
   "execution_count": null,
   "id": "87fe4ee5-ff61-453f-9bd6-4240ae625f2d",
   "metadata": {},
   "outputs": [],
   "source": []
  }
 ],
 "metadata": {
  "kernelspec": {
   "display_name": "Python 3 (ipykernel)",
   "language": "python",
   "name": "python3"
  },
  "language_info": {
   "codemirror_mode": {
    "name": "ipython",
    "version": 3
   },
   "file_extension": ".py",
   "mimetype": "text/x-python",
   "name": "python",
   "nbconvert_exporter": "python",
   "pygments_lexer": "ipython3",
   "version": "3.11.5"
  }
 },
 "nbformat": 4,
 "nbformat_minor": 5
}
